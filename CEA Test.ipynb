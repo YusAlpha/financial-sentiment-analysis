{
 "cells": [
  {
   "cell_type": "markdown",
   "id": "3ac03477-dad1-4180-8a73-536f7e6b8383",
   "metadata": {},
   "source": [
    "# Part 1: Data Preprocessing and Exploration"
   ]
  },
  {
   "cell_type": "markdown",
   "id": "b98437b6-5d43-4647-9b2d-a3709e16546b",
   "metadata": {},
   "source": [
    "## 1.1 Data Loading and Exploration"
   ]
  },
  {
   "cell_type": "markdown",
   "id": "929b84aa-61ad-4b87-8f23-7e74e3ec981d",
   "metadata": {},
   "source": [
    "### Import libraries"
   ]
  },
  {
   "cell_type": "code",
   "execution_count": 1,
   "id": "f03235b3-8c94-461b-b773-edf56664c671",
   "metadata": {},
   "outputs": [],
   "source": [
    "import pandas as pd\n",
    "import matplotlib.pyplot as plt\n",
    "import numpy as np\n",
    "import os"
   ]
  },
  {
   "cell_type": "markdown",
   "id": "8cdd4a75-6634-4b49-a1dc-54fd93441e3f",
   "metadata": {},
   "source": [
    "### Load the dataset"
   ]
  },
  {
   "cell_type": "code",
   "execution_count": 2,
   "id": "7d5b022d-7b1e-4e55-956e-4bbc268a099b",
   "metadata": {},
   "outputs": [],
   "source": [
    "data = pd.read_csv(\"financial-news-tweets-corpus.csv\")"
   ]
  },
  {
   "cell_type": "markdown",
   "id": "58d3cbd3-736e-4504-a854-27cb2be53614",
   "metadata": {},
   "source": [
    "### Display the head of the dataset to understand its structure"
   ]
  },
  {
   "cell_type": "code",
   "execution_count": 3,
   "id": "d22acb0f-abb8-4d1b-8a03-1f36b496ccb7",
   "metadata": {},
   "outputs": [
    {
     "data": {
      "text/html": [
       "<div>\n",
       "<style scoped>\n",
       "    .dataframe tbody tr th:only-of-type {\n",
       "        vertical-align: middle;\n",
       "    }\n",
       "\n",
       "    .dataframe tbody tr th {\n",
       "        vertical-align: top;\n",
       "    }\n",
       "\n",
       "    .dataframe thead th {\n",
       "        text-align: right;\n",
       "    }\n",
       "</style>\n",
       "<table border=\"1\" class=\"dataframe\">\n",
       "  <thead>\n",
       "    <tr style=\"text-align: right;\">\n",
       "      <th></th>\n",
       "      <th>text</th>\n",
       "      <th>label</th>\n",
       "    </tr>\n",
       "  </thead>\n",
       "  <tbody>\n",
       "    <tr>\n",
       "      <th>0</th>\n",
       "      <td>$BYND - JPMorgan reels in expectations on Beyo...</td>\n",
       "      <td>Bearish</td>\n",
       "    </tr>\n",
       "    <tr>\n",
       "      <th>1</th>\n",
       "      <td>$CCL $RCL - Nomura points to bookings weakness...</td>\n",
       "      <td>Bearish</td>\n",
       "    </tr>\n",
       "    <tr>\n",
       "      <th>2</th>\n",
       "      <td>$CX - Cemex cut at Credit Suisse, J.P. Morgan ...</td>\n",
       "      <td>Bearish</td>\n",
       "    </tr>\n",
       "    <tr>\n",
       "      <th>3</th>\n",
       "      <td>$ESS: BTIG Research cuts to Neutral https://t....</td>\n",
       "      <td>Bearish</td>\n",
       "    </tr>\n",
       "    <tr>\n",
       "      <th>4</th>\n",
       "      <td>$FNKO - Funko slides after Piper Jaffray PT cu...</td>\n",
       "      <td>Bearish</td>\n",
       "    </tr>\n",
       "  </tbody>\n",
       "</table>\n",
       "</div>"
      ],
      "text/plain": [
       "                                                text    label\n",
       "0  $BYND - JPMorgan reels in expectations on Beyo...  Bearish\n",
       "1  $CCL $RCL - Nomura points to bookings weakness...  Bearish\n",
       "2  $CX - Cemex cut at Credit Suisse, J.P. Morgan ...  Bearish\n",
       "3  $ESS: BTIG Research cuts to Neutral https://t....  Bearish\n",
       "4  $FNKO - Funko slides after Piper Jaffray PT cu...  Bearish"
      ]
     },
     "metadata": {},
     "output_type": "display_data"
    }
   ],
   "source": [
    "display(data.head())"
   ]
  },
  {
   "cell_type": "markdown",
   "id": "69569426-e922-4c40-bf27-7653625e5154",
   "metadata": {},
   "source": [
    "### Ensure there is no missing value"
   ]
  },
  {
   "cell_type": "code",
   "execution_count": 4,
   "id": "f727726c-b952-455f-b24b-cb5c0f5741ed",
   "metadata": {},
   "outputs": [
    {
     "data": {
      "text/plain": [
       "text     0\n",
       "label    0\n",
       "dtype: int64"
      ]
     },
     "metadata": {},
     "output_type": "display_data"
    }
   ],
   "source": [
    "display(data.isnull().sum())"
   ]
  },
  {
   "cell_type": "markdown",
   "id": "b45c727a-a0ce-4c25-8930-18cf04eddeef",
   "metadata": {},
   "source": [
    "### Clean mislabeling issues"
   ]
  },
  {
   "cell_type": "code",
   "execution_count": 5,
   "id": "1e763395-04ee-4440-bfc7-7a1204eb337f",
   "metadata": {},
   "outputs": [],
   "source": [
    "data = data[data['label'].isin(['Bearish', 'Bullish', 'Neutral'])]"
   ]
  },
  {
   "cell_type": "markdown",
   "id": "9ae0934c-16f7-433b-b9fb-63b81d79d060",
   "metadata": {},
   "source": [
    "### Remove potential diplicate rows"
   ]
  },
  {
   "cell_type": "code",
   "execution_count": 6,
   "id": "d5af2069-489a-46b3-b3ca-c9fd07a6c23a",
   "metadata": {},
   "outputs": [],
   "source": [
    "data = data.drop_duplicates()"
   ]
  },
  {
   "cell_type": "markdown",
   "id": "8749281b-584a-4f0f-a0c6-d00c917af354",
   "metadata": {},
   "source": [
    "### Check label distribution"
   ]
  },
  {
   "cell_type": "code",
   "execution_count": 7,
   "id": "1c0b6b84-a499-4654-a260-8345df5bbd64",
   "metadata": {},
   "outputs": [
    {
     "data": {
      "text/plain": [
       "label\n",
       "Neutral    7743\n",
       "Bullish    2398\n",
       "Bearish    1789\n",
       "Name: count, dtype: int64"
      ]
     },
     "metadata": {},
     "output_type": "display_data"
    }
   ],
   "source": [
    "display(data['label'].value_counts())"
   ]
  },
  {
   "cell_type": "code",
   "execution_count": 8,
   "id": "a53a3783-1a9e-4f2b-a79e-8be40f3a5574",
   "metadata": {},
   "outputs": [
    {
     "data": {
      "image/png": "[encoded data removed]",
      "text/plain": [
       "<Figure size 500x300 with 1 Axes>"
      ]
     },
     "metadata": {},
     "output_type": "display_data"
    }
   ],
   "source": [
    "plt.figure(figsize=(5, 3))\n",
    "data['label'].value_counts().plot(kind='bar', color=['gray', 'lightblue', 'lightgreen'])\n",
    "plt.title(\"Distribution of Sentiment Labels\")\n",
    "plt.xlabel(\"Sentiment\")\n",
    "plt.ylabel(\"Number of Tweets\")\n",
    "plt.show()"
   ]
  },
  {
   "cell_type": "markdown",
   "id": "14b2ef55-ead8-42aa-8c98-09b975ba732f",
   "metadata": {},
   "source": [
    "As we can see, the sentiments in the dataset are unevenly distributed. The majority of tweets are labeled as Neutral, and the number of tweets labeled as Bullish is slightly higher than those labeled as Bearish."
   ]
  },
  {
   "cell_type": "markdown",
   "id": "c046edd3-61e3-4dc2-8a26-eabda9cbc831",
   "metadata": {},
   "source": [
    "## 1.2 Text Preprocessing"
   ]
  },
  {
   "cell_type": "markdown",
   "id": "b2e52214-5179-4458-9885-d3b270b11fda",
   "metadata": {},
   "source": [
    "### Import Regex for text processing"
   ]
  },
  {
   "cell_type": "code",
   "execution_count": 9,
   "id": "04fc9047-7bd2-4719-bf59-0a9fc1e8cd83",
   "metadata": {},
   "outputs": [],
   "source": [
    "import re"
   ]
  },
  {
   "cell_type": "markdown",
   "id": "8d8cda93-2716-4557-9dcd-cf472c7ef084",
   "metadata": {},
   "source": [
    "### Function to clean text \n",
    "This text preprocessing ensures a cleaner dataset by removing unnecessary elements like links and company symbols.\n",
    "I keep % because it is relevant for financial sentiment."
   ]
  },
  {
   "cell_type": "code",
   "execution_count": 10,
   "id": "f733abcf-6e74-405c-b2c5-2580a9ccde07",
   "metadata": {},
   "outputs": [
    {
     "data": {
      "text/html": [
       "<div>\n",
       "<style scoped>\n",
       "    .dataframe tbody tr th:only-of-type {\n",
       "        vertical-align: middle;\n",
       "    }\n",
       "\n",
       "    .dataframe tbody tr th {\n",
       "        vertical-align: top;\n",
       "    }\n",
       "\n",
       "    .dataframe thead th {\n",
       "        text-align: right;\n",
       "    }\n",
       "</style>\n",
       "<table border=\"1\" class=\"dataframe\">\n",
       "  <thead>\n",
       "    <tr style=\"text-align: right;\">\n",
       "      <th></th>\n",
       "      <th>text</th>\n",
       "      <th>label</th>\n",
       "    </tr>\n",
       "  </thead>\n",
       "  <tbody>\n",
       "    <tr>\n",
       "      <th>0</th>\n",
       "      <td>jpmorgan reels in expectations on beyond meat</td>\n",
       "      <td>Bearish</td>\n",
       "    </tr>\n",
       "    <tr>\n",
       "      <th>1</th>\n",
       "      <td>nomura points to bookings weakness at carnival...</td>\n",
       "      <td>Bearish</td>\n",
       "    </tr>\n",
       "    <tr>\n",
       "      <th>2</th>\n",
       "      <td>cemex cut at credit suisse jp morgan on weak b...</td>\n",
       "      <td>Bearish</td>\n",
       "    </tr>\n",
       "    <tr>\n",
       "      <th>3</th>\n",
       "      <td>btig research cuts to neutral</td>\n",
       "      <td>Bearish</td>\n",
       "    </tr>\n",
       "    <tr>\n",
       "      <th>4</th>\n",
       "      <td>funko slides after piper jaffray pt cut</td>\n",
       "      <td>Bearish</td>\n",
       "    </tr>\n",
       "  </tbody>\n",
       "</table>\n",
       "</div>"
      ],
      "text/plain": [
       "                                                text    label\n",
       "0      jpmorgan reels in expectations on beyond meat  Bearish\n",
       "1  nomura points to bookings weakness at carnival...  Bearish\n",
       "2  cemex cut at credit suisse jp morgan on weak b...  Bearish\n",
       "3                      btig research cuts to neutral  Bearish\n",
       "4            funko slides after piper jaffray pt cut  Bearish"
      ]
     },
     "metadata": {},
     "output_type": "display_data"
    }
   ],
   "source": [
    "def clean_text(text):\n",
    "    text = text.lower()  # Convert to lowercase\n",
    "    text = re.sub(r'http\\S+|www\\.\\S+', '', text)  # Remove URLs\n",
    "    text = re.sub(r'\\$\\w+', '', text)  # Remove stock symbols\n",
    "    text = re.sub(r'[^a-zA-Z0-9% ]', '', text)  # Remove special characters except %\n",
    "    text = text.strip()  # Remove leading/trailing spaces\n",
    "    return text\n",
    "\n",
    "data['text'] = data['text'].apply(clean_text)\n",
    "display(data.head())"
   ]
  },
  {
   "cell_type": "markdown",
   "id": "5854f4df-6598-4347-a998-7f30014c29da",
   "metadata": {},
   "source": [
    "## 1.3 Dataset Splitting\n",
    "\n",
    "The dataset is imbalanced, some labels are much more frequent than others. To prevent the model from fravoring the dominant class, I use a stratified splitting to ensure both training and test sets have the same proportions."
   ]
  },
  {
   "cell_type": "markdown",
   "id": "95f3edc5-8613-42b9-a85f-8da177476e32",
   "metadata": {},
   "source": [
    "### Import splitting method"
   ]
  },
  {
   "cell_type": "code",
   "execution_count": 11,
   "id": "06263f8c-b6dd-4309-8794-a04c68ce83ec",
   "metadata": {},
   "outputs": [],
   "source": [
    "from sklearn.model_selection import train_test_split"
   ]
  },
  {
   "cell_type": "markdown",
   "id": "03d63cb1-115c-4bdd-a03b-a7daf2a1e394",
   "metadata": {},
   "source": [
    "### Split the dataset into training (80%) and testing (20%) while maintaining class proportions"
   ]
  },
  {
   "cell_type": "code",
   "execution_count": 12,
   "id": "6efd6b0a-d5d7-47e6-ad25-c6859b6cfe5a",
   "metadata": {},
   "outputs": [],
   "source": [
    "train_data, test_data = train_test_split(data, test_size=0.2, stratify=data['label'], random_state=1)\n",
    "train_data.to_csv(\"train_data.csv\", index=False)\n",
    "test_data.to_csv(\"test_data.csv\", index=False)"
   ]
  },
  {
   "cell_type": "markdown",
   "id": "f983e6af-63eb-4dd9-a916-72c4a4cabc17",
   "metadata": {
    "jp-MarkdownHeadingCollapsed": true
   },
   "source": [
    "# Part 2: Feature Engineering and Vectorization"
   ]
  },
  {
   "cell_type": "markdown",
   "id": "985e2114-1957-4771-a74e-1eef4134f8af",
   "metadata": {},
   "source": [
    "## 2.1 TF-IDF Vectorization"
   ]
  },
  {
   "cell_type": "markdown",
   "id": "6a135286-0219-4de9-934d-8cd583577b3a",
   "metadata": {},
   "source": [
    "### Import TF-IDF Library"
   ]
  },
  {
   "cell_type": "code",
   "execution_count": 13,
   "id": "83837f38-61b8-4d8b-8e61-b46641c293c5",
   "metadata": {},
   "outputs": [],
   "source": [
    "from sklearn.feature_extraction.text import TfidfVectorizer"
   ]
  },
  {
   "cell_type": "markdown",
   "id": "219fde34-8566-460f-a9e4-8dc6c9f28b17",
   "metadata": {},
   "source": [
    "### Convert text to TF-IDF feartures"
   ]
  },
  {
   "cell_type": "code",
   "execution_count": 14,
   "id": "6c4aec20-035a-4531-97f6-550e85c0f5a2",
   "metadata": {},
   "outputs": [],
   "source": [
    "tfidf_vectorizer = TfidfVectorizer(ngram_range=(1,2), stop_words='english', max_features=5000)\n",
    "X_train_tfidf = tfidf_vectorizer.fit_transform(train_data['text'])\n",
    "X_test_tfidf = tfidf_vectorizer.transform(test_data['text'])"
   ]
  },
  {
   "cell_type": "markdown",
   "id": "ab171ae7-765c-48cc-95a1-0eb20295be0c",
   "metadata": {},
   "source": [
    "## 2.2 General Sentence Embeddings (Sentence Transformers)"
   ]
  },
  {
   "cell_type": "markdown",
   "id": "e7950bf3-9940-44f0-982f-91c1fbda7e2e",
   "metadata": {},
   "source": [
    "### Import Sentence Transformers Library"
   ]
  },
  {
   "cell_type": "code",
   "execution_count": 15,
   "id": "8e6c34a4-309b-40dc-864a-58747b55e166",
   "metadata": {},
   "outputs": [],
   "source": [
    "from sentence_transformers import SentenceTransformer"
   ]
  },
  {
   "cell_type": "markdown",
   "id": "26736c35-fb63-4adc-9d8b-8daa8e37e2e6",
   "metadata": {},
   "source": [
    "### Load Pretrained Model"
   ]
  },
  {
   "cell_type": "code",
   "execution_count": 16,
   "id": "a50df4f5-1494-4e78-8056-d5f776c7c909",
   "metadata": {},
   "outputs": [],
   "source": [
    "sentence_model = SentenceTransformer('sentence-transformers/all-MiniLM-L6-v2')"
   ]
  },
  {
   "cell_type": "markdown",
   "id": "5f2fe0fa-8efd-470f-b080-d6a363e9d1eb",
   "metadata": {},
   "source": [
    "### Convert text to embeddings"
   ]
  },
  {
   "cell_type": "code",
   "execution_count": 17,
   "id": "80b98586-325a-4aa3-8a75-0aa8a602cde5",
   "metadata": {},
   "outputs": [],
   "source": [
    "X_train_embeddings = sentence_model.encode(train_data['text'].tolist())\n",
    "X_test_embeddings = sentence_model.encode(test_data['text'].tolist())"
   ]
  },
  {
   "cell_type": "markdown",
   "id": "6c57ce44-7841-4907-8091-a4dc4d76984a",
   "metadata": {},
   "source": [
    "## 2.3 Financial Sentiment Encoding (FinBERT)"
   ]
  },
  {
   "cell_type": "markdown",
   "id": "a71d5700-5dc8-4251-80a2-efa26369942b",
   "metadata": {},
   "source": [
    "### Import Transformers Pipiline"
   ]
  },
  {
   "cell_type": "code",
   "execution_count": 18,
   "id": "173d7a95-f06e-4851-8359-ac77e6ccc0dd",
   "metadata": {},
   "outputs": [],
   "source": [
    "from transformers import pipeline\n",
    "from tqdm.notebook import tqdm"
   ]
  },
  {
   "cell_type": "markdown",
   "id": "89e3747c-8d2e-426f-9228-6d67b99c4036",
   "metadata": {},
   "source": [
    "### Load Pretrained model: FinBERT"
   ]
  },
  {
   "cell_type": "code",
   "execution_count": 19,
   "id": "7022c7a8-b626-48d0-9eac-d9e2d57e857f",
   "metadata": {},
   "outputs": [
    {
     "name": "stderr",
     "output_type": "stream",
     "text": [
      "Device set to use mps:0\n"
     ]
    }
   ],
   "source": [
    "finbert_model = pipeline(\"feature-extraction\", model=\"yiyanghkust/finbert-tone\")"
   ]
  },
  {
   "cell_type": "markdown",
   "id": "473e68ce-617c-4639-b854-f9aca7e7c39c",
   "metadata": {},
   "source": [
    "### Convert text to FinBert embeddings\n",
    "\n",
    "To avoid recomputing the embeddings every time the notebook is loaded, I store them as NumPy arrays. If the saved files exist, they are loaded. Otherwise, the embeddings are computed and saved for future use."
   ]
  },
  {
   "cell_type": "code",
   "execution_count": 20,
   "id": "6a6a87c6-8c36-4dde-9f90-4b1e5a445f47",
   "metadata": {},
   "outputs": [
    {
     "name": "stdout",
     "output_type": "stream",
     "text": [
      "Loading saved FinBERT embeddings\n"
     ]
    }
   ],
   "source": [
    "train_embeddings_file = \"finbert_train_embeddings.npy\"\n",
    "test_embeddings_file = \"finbert_test_embeddings.npy\"\n",
    "\n",
    "if os.path.exists(train_embeddings_file) and os.path.exists(test_embeddings_file):\n",
    "    print(\"Loading saved FinBERT embeddings\")\n",
    "    X_train_finbert = np.load(train_embeddings_file)\n",
    "    X_test_finbert = np.load(test_embeddings_file)\n",
    "else:\n",
    "    print(\"Computing FinBERT embeddings\")\n",
    "\n",
    "    from tqdm import tqdm\n",
    "    X_train_finbert = [finbert_model(text)[0][0] for text in tqdm(train_data['text'].tolist(), desc=\"Processing Train Data\")]\n",
    "    X_test_finbert = [finbert_model(text)[0][0] for text in tqdm(test_data['text'].tolist(), desc=\"Processing Test Data\")]\n",
    "\n",
    "    np.save(train_embeddings_file, np.array(X_train_finbert))\n",
    "    np.save(test_embeddings_file, np.array(X_test_finbert))"
   ]
  },
  {
   "cell_type": "markdown",
   "id": "0d0415df-fdab-4496-8625-8181f6faf01e",
   "metadata": {},
   "source": [
    "# Part 3: Model Building and Evaluation"
   ]
  },
  {
   "cell_type": "markdown",
   "id": "7510b888-76b7-452a-b7f6-b178e692e46d",
   "metadata": {},
   "source": [
    "In this section, I train and evaluate different models based on the chosen feature representations.\n",
    "This will allow a direct comparison of how different vectorization techniques influence prediction accuracy.\n",
    "The following three models will be tested:\n",
    "\n",
    "1. **Baseline Model (TF-IDF + Logistic Regression)**\n",
    "2. **Advanced Machine Learning Model (Word Embeddings + Random Forest)**\n",
    "3. **Deep Learning Model (FinBERT Fine-Tuning)**"
   ]
  },
  {
   "cell_type": "markdown",
   "id": "df2d06df-d9c3-4183-9ed1-13eaaf95e1ab",
   "metadata": {
    "jp-MarkdownHeadingCollapsed": true
   },
   "source": [
    "## 3.1 Baseline Model (TF-IDF + Logic Regression)"
   ]
  },
  {
   "cell_type": "markdown",
   "id": "76310a3f-695b-46dc-9bf6-415366c636f5",
   "metadata": {},
   "source": [
    "### Import Logic Regression library"
   ]
  },
  {
   "cell_type": "code",
   "execution_count": 21,
   "id": "2959d073-5f68-4f43-aadd-8a4afefb6c30",
   "metadata": {},
   "outputs": [],
   "source": [
    "from sklearn.linear_model import LogisticRegression\n",
    "from sklearn.metrics import classification_report"
   ]
  },
  {
   "cell_type": "markdown",
   "id": "a4d3b8ee-e00f-488c-826d-6b1843684157",
   "metadata": {},
   "source": [
    "### Train Logic Regression"
   ]
  },
  {
   "cell_type": "code",
   "execution_count": 22,
   "id": "597a1371-a38f-4eea-9494-1a94ab41fdce",
   "metadata": {},
   "outputs": [
    {
     "data": {
      "text/html": [
       "<style>#sk-container-id-1 {\n",
       "  /* Definition of color scheme common for light and dark mode */\n",
       "  --sklearn-color-text: #000;\n",
       "  --sklearn-color-text-muted: #666;\n",
       "  --sklearn-color-line: gray;\n",
       "  /* Definition of color scheme for unfitted estimators */\n",
       "  --sklearn-color-unfitted-level-0: #fff5e6;\n",
       "  --sklearn-color-unfitted-level-1: #f6e4d2;\n",
       "  --sklearn-color-unfitted-level-2: #ffe0b3;\n",
       "  --sklearn-color-unfitted-level-3: chocolate;\n",
       "  /* Definition of color scheme for fitted estimators */\n",
       "  --sklearn-color-fitted-level-0: #f0f8ff;\n",
       "  --sklearn-color-fitted-level-1: #d4ebff;\n",
       "  --sklearn-color-fitted-level-2: #b3dbfd;\n",
       "  --sklearn-color-fitted-level-3: cornflowerblue;\n",
       "\n",
       "  /* Specific color for light theme */\n",
       "  --sklearn-color-text-on-default-background: var(--sg-text-color, var(--theme-code-foreground, var(--jp-content-font-color1, black)));\n",
       "  --sklearn-color-background: var(--sg-background-color, var(--theme-background, var(--jp-layout-color0, white)));\n",
       "  --sklearn-color-border-box: var(--sg-text-color, var(--theme-code-foreground, var(--jp-content-font-color1, black)));\n",
       "  --sklearn-color-icon: #696969;\n",
       "\n",
       "  @media (prefers-color-scheme: dark) {\n",
       "    /* Redefinition of color scheme for dark theme */\n",
       "    --sklearn-color-text-on-default-background: var(--sg-text-color, var(--theme-code-foreground, var(--jp-content-font-color1, white)));\n",
       "    --sklearn-color-background: var(--sg-background-color, var(--theme-background, var(--jp-layout-color0, #111)));\n",
       "    --sklearn-color-border-box: var(--sg-text-color, var(--theme-code-foreground, var(--jp-content-font-color1, white)));\n",
       "    --sklearn-color-icon: #878787;\n",
       "  }\n",
       "}\n",
       "\n",
       "#sk-container-id-1 {\n",
       "  color: var(--sklearn-color-text);\n",
       "}\n",
       "\n",
       "#sk-container-id-1 pre {\n",
       "  padding: 0;\n",
       "}\n",
       "\n",
       "#sk-container-id-1 input.sk-hidden--visually {\n",
       "  border: 0;\n",
       "  clip: rect(1px 1px 1px 1px);\n",
       "  clip: rect(1px, 1px, 1px, 1px);\n",
       "  height: 1px;\n",
       "  margin: -1px;\n",
       "  overflow: hidden;\n",
       "  padding: 0;\n",
       "  position: absolute;\n",
       "  width: 1px;\n",
       "}\n",
       "\n",
       "#sk-container-id-1 div.sk-dashed-wrapped {\n",
       "  border: 1px dashed var(--sklearn-color-line);\n",
       "  margin: 0 0.4em 0.5em 0.4em;\n",
       "  box-sizing: border-box;\n",
       "  padding-bottom: 0.4em;\n",
       "  background-color: var(--sklearn-color-background);\n",
       "}\n",
       "\n",
       "#sk-container-id-1 div.sk-container {\n",
       "  /* jupyter's `normalize.less` sets `[hidden] { display: none; }`\n",
       "     but bootstrap.min.css set `[hidden] { display: none !important; }`\n",
       "     so we also need the `!important` here to be able to override the\n",
       "     default hidden behavior on the sphinx rendered scikit-learn.org.\n",
       "     See: https://github.com/scikit-learn/scikit-learn/issues/21755 */\n",
       "  display: inline-block !important;\n",
       "  position: relative;\n",
       "}\n",
       "\n",
       "#sk-container-id-1 div.sk-text-repr-fallback {\n",
       "  display: none;\n",
       "}\n",
       "\n",
       "div.sk-parallel-item,\n",
       "div.sk-serial,\n",
       "div.sk-item {\n",
       "  /* draw centered vertical line to link estimators */\n",
       "  background-image: linear-gradient(var(--sklearn-color-text-on-default-background), var(--sklearn-color-text-on-default-background));\n",
       "  background-size: 2px 100%;\n",
       "  background-repeat: no-repeat;\n",
       "  background-position: center center;\n",
       "}\n",
       "\n",
       "/* Parallel-specific style estimator block */\n",
       "\n",
       "#sk-container-id-1 div.sk-parallel-item::after {\n",
       "  content: \"\";\n",
       "  width: 100%;\n",
       "  border-bottom: 2px solid var(--sklearn-color-text-on-default-background);\n",
       "  flex-grow: 1;\n",
       "}\n",
       "\n",
       "#sk-container-id-1 div.sk-parallel {\n",
       "  display: flex;\n",
       "  align-items: stretch;\n",
       "  justify-content: center;\n",
       "  background-color: var(--sklearn-color-background);\n",
       "  position: relative;\n",
       "}\n",
       "\n",
       "#sk-container-id-1 div.sk-parallel-item {\n",
       "  display: flex;\n",
       "  flex-direction: column;\n",
       "}\n",
       "\n",
       "#sk-container-id-1 div.sk-parallel-item:first-child::after {\n",
       "  align-self: flex-end;\n",
       "  width: 50%;\n",
       "}\n",
       "\n",
       "#sk-container-id-1 div.sk-parallel-item:last-child::after {\n",
       "  align-self: flex-start;\n",
       "  width: 50%;\n",
       "}\n",
       "\n",
       "#sk-container-id-1 div.sk-parallel-item:only-child::after {\n",
       "  width: 0;\n",
       "}\n",
       "\n",
       "/* Serial-specific style estimator block */\n",
       "\n",
       "#sk-container-id-1 div.sk-serial {\n",
       "  display: flex;\n",
       "  flex-direction: column;\n",
       "  align-items: center;\n",
       "  background-color: var(--sklearn-color-background);\n",
       "  padding-right: 1em;\n",
       "  padding-left: 1em;\n",
       "}\n",
       "\n",
       "\n",
       "/* Toggleable style: style used for estimator/Pipeline/ColumnTransformer box that is\n",
       "clickable and can be expanded/collapsed.\n",
       "- Pipeline and ColumnTransformer use this feature and define the default style\n",
       "- Estimators will overwrite some part of the style using the `sk-estimator` class\n",
       "*/\n",
       "\n",
       "/* Pipeline and ColumnTransformer style (default) */\n",
       "\n",
       "#sk-container-id-1 div.sk-toggleable {\n",
       "  /* Default theme specific background. It is overwritten whether we have a\n",
       "  specific estimator or a Pipeline/ColumnTransformer */\n",
       "  background-color: var(--sklearn-color-background);\n",
       "}\n",
       "\n",
       "/* Toggleable label */\n",
       "#sk-container-id-1 label.sk-toggleable__label {\n",
       "  cursor: pointer;\n",
       "  display: flex;\n",
       "  width: 100%;\n",
       "  margin-bottom: 0;\n",
       "  padding: 0.5em;\n",
       "  box-sizing: border-box;\n",
       "  text-align: center;\n",
       "  align-items: start;\n",
       "  justify-content: space-between;\n",
       "  gap: 0.5em;\n",
       "}\n",
       "\n",
       "#sk-container-id-1 label.sk-toggleable__label .caption {\n",
       "  font-size: 0.6rem;\n",
       "  font-weight: lighter;\n",
       "  color: var(--sklearn-color-text-muted);\n",
       "}\n",
       "\n",
       "#sk-container-id-1 label.sk-toggleable__label-arrow:before {\n",
       "  /* Arrow on the left of the label */\n",
       "  content: \"▸\";\n",
       "  float: left;\n",
       "  margin-right: 0.25em;\n",
       "  color: var(--sklearn-color-icon);\n",
       "}\n",
       "\n",
       "#sk-container-id-1 label.sk-toggleable__label-arrow:hover:before {\n",
       "  color: var(--sklearn-color-text);\n",
       "}\n",
       "\n",
       "/* Toggleable content - dropdown */\n",
       "\n",
       "#sk-container-id-1 div.sk-toggleable__content {\n",
       "  max-height: 0;\n",
       "  max-width: 0;\n",
       "  overflow: hidden;\n",
       "  text-align: left;\n",
       "  /* unfitted */\n",
       "  background-color: var(--sklearn-color-unfitted-level-0);\n",
       "}\n",
       "\n",
       "#sk-container-id-1 div.sk-toggleable__content.fitted {\n",
       "  /* fitted */\n",
       "  background-color: var(--sklearn-color-fitted-level-0);\n",
       "}\n",
       "\n",
       "#sk-container-id-1 div.sk-toggleable__content pre {\n",
       "  margin: 0.2em;\n",
       "  border-radius: 0.25em;\n",
       "  color: var(--sklearn-color-text);\n",
       "  /* unfitted */\n",
       "  background-color: var(--sklearn-color-unfitted-level-0);\n",
       "}\n",
       "\n",
       "#sk-container-id-1 div.sk-toggleable__content.fitted pre {\n",
       "  /* unfitted */\n",
       "  background-color: var(--sklearn-color-fitted-level-0);\n",
       "}\n",
       "\n",
       "#sk-container-id-1 input.sk-toggleable__control:checked~div.sk-toggleable__content {\n",
       "  /* Expand drop-down */\n",
       "  max-height: 200px;\n",
       "  max-width: 100%;\n",
       "  overflow: auto;\n",
       "}\n",
       "\n",
       "#sk-container-id-1 input.sk-toggleable__control:checked~label.sk-toggleable__label-arrow:before {\n",
       "  content: \"▾\";\n",
       "}\n",
       "\n",
       "/* Pipeline/ColumnTransformer-specific style */\n",
       "\n",
       "#sk-container-id-1 div.sk-label input.sk-toggleable__control:checked~label.sk-toggleable__label {\n",
       "  color: var(--sklearn-color-text);\n",
       "  background-color: var(--sklearn-color-unfitted-level-2);\n",
       "}\n",
       "\n",
       "#sk-container-id-1 div.sk-label.fitted input.sk-toggleable__control:checked~label.sk-toggleable__label {\n",
       "  background-color: var(--sklearn-color-fitted-level-2);\n",
       "}\n",
       "\n",
       "/* Estimator-specific style */\n",
       "\n",
       "/* Colorize estimator box */\n",
       "#sk-container-id-1 div.sk-estimator input.sk-toggleable__control:checked~label.sk-toggleable__label {\n",
       "  /* unfitted */\n",
       "  background-color: var(--sklearn-color-unfitted-level-2);\n",
       "}\n",
       "\n",
       "#sk-container-id-1 div.sk-estimator.fitted input.sk-toggleable__control:checked~label.sk-toggleable__label {\n",
       "  /* fitted */\n",
       "  background-color: var(--sklearn-color-fitted-level-2);\n",
       "}\n",
       "\n",
       "#sk-container-id-1 div.sk-label label.sk-toggleable__label,\n",
       "#sk-container-id-1 div.sk-label label {\n",
       "  /* The background is the default theme color */\n",
       "  color: var(--sklearn-color-text-on-default-background);\n",
       "}\n",
       "\n",
       "/* On hover, darken the color of the background */\n",
       "#sk-container-id-1 div.sk-label:hover label.sk-toggleable__label {\n",
       "  color: var(--sklearn-color-text);\n",
       "  background-color: var(--sklearn-color-unfitted-level-2);\n",
       "}\n",
       "\n",
       "/* Label box, darken color on hover, fitted */\n",
       "#sk-container-id-1 div.sk-label.fitted:hover label.sk-toggleable__label.fitted {\n",
       "  color: var(--sklearn-color-text);\n",
       "  background-color: var(--sklearn-color-fitted-level-2);\n",
       "}\n",
       "\n",
       "/* Estimator label */\n",
       "\n",
       "#sk-container-id-1 div.sk-label label {\n",
       "  font-family: monospace;\n",
       "  font-weight: bold;\n",
       "  display: inline-block;\n",
       "  line-height: 1.2em;\n",
       "}\n",
       "\n",
       "#sk-container-id-1 div.sk-label-container {\n",
       "  text-align: center;\n",
       "}\n",
       "\n",
       "/* Estimator-specific */\n",
       "#sk-container-id-1 div.sk-estimator {\n",
       "  font-family: monospace;\n",
       "  border: 1px dotted var(--sklearn-color-border-box);\n",
       "  border-radius: 0.25em;\n",
       "  box-sizing: border-box;\n",
       "  margin-bottom: 0.5em;\n",
       "  /* unfitted */\n",
       "  background-color: var(--sklearn-color-unfitted-level-0);\n",
       "}\n",
       "\n",
       "#sk-container-id-1 div.sk-estimator.fitted {\n",
       "  /* fitted */\n",
       "  background-color: var(--sklearn-color-fitted-level-0);\n",
       "}\n",
       "\n",
       "/* on hover */\n",
       "#sk-container-id-1 div.sk-estimator:hover {\n",
       "  /* unfitted */\n",
       "  background-color: var(--sklearn-color-unfitted-level-2);\n",
       "}\n",
       "\n",
       "#sk-container-id-1 div.sk-estimator.fitted:hover {\n",
       "  /* fitted */\n",
       "  background-color: var(--sklearn-color-fitted-level-2);\n",
       "}\n",
       "\n",
       "/* Specification for estimator info (e.g. \"i\" and \"?\") */\n",
       "\n",
       "/* Common style for \"i\" and \"?\" */\n",
       "\n",
       ".sk-estimator-doc-link,\n",
       "a:link.sk-estimator-doc-link,\n",
       "a:visited.sk-estimator-doc-link {\n",
       "  float: right;\n",
       "  font-size: smaller;\n",
       "  line-height: 1em;\n",
       "  font-family: monospace;\n",
       "  background-color: var(--sklearn-color-background);\n",
       "  border-radius: 1em;\n",
       "  height: 1em;\n",
       "  width: 1em;\n",
       "  text-decoration: none !important;\n",
       "  margin-left: 0.5em;\n",
       "  text-align: center;\n",
       "  /* unfitted */\n",
       "  border: var(--sklearn-color-unfitted-level-1) 1pt solid;\n",
       "  color: var(--sklearn-color-unfitted-level-1);\n",
       "}\n",
       "\n",
       ".sk-estimator-doc-link.fitted,\n",
       "a:link.sk-estimator-doc-link.fitted,\n",
       "a:visited.sk-estimator-doc-link.fitted {\n",
       "  /* fitted */\n",
       "  border: var(--sklearn-color-fitted-level-1) 1pt solid;\n",
       "  color: var(--sklearn-color-fitted-level-1);\n",
       "}\n",
       "\n",
       "/* On hover */\n",
       "div.sk-estimator:hover .sk-estimator-doc-link:hover,\n",
       ".sk-estimator-doc-link:hover,\n",
       "div.sk-label-container:hover .sk-estimator-doc-link:hover,\n",
       ".sk-estimator-doc-link:hover {\n",
       "  /* unfitted */\n",
       "  background-color: var(--sklearn-color-unfitted-level-3);\n",
       "  color: var(--sklearn-color-background);\n",
       "  text-decoration: none;\n",
       "}\n",
       "\n",
       "div.sk-estimator.fitted:hover .sk-estimator-doc-link.fitted:hover,\n",
       ".sk-estimator-doc-link.fitted:hover,\n",
       "div.sk-label-container:hover .sk-estimator-doc-link.fitted:hover,\n",
       ".sk-estimator-doc-link.fitted:hover {\n",
       "  /* fitted */\n",
       "  background-color: var(--sklearn-color-fitted-level-3);\n",
       "  color: var(--sklearn-color-background);\n",
       "  text-decoration: none;\n",
       "}\n",
       "\n",
       "/* Span, style for the box shown on hovering the info icon */\n",
       ".sk-estimator-doc-link span {\n",
       "  display: none;\n",
       "  z-index: 9999;\n",
       "  position: relative;\n",
       "  font-weight: normal;\n",
       "  right: .2ex;\n",
       "  padding: .5ex;\n",
       "  margin: .5ex;\n",
       "  width: min-content;\n",
       "  min-width: 20ex;\n",
       "  max-width: 50ex;\n",
       "  color: var(--sklearn-color-text);\n",
       "  box-shadow: 2pt 2pt 4pt #999;\n",
       "  /* unfitted */\n",
       "  background: var(--sklearn-color-unfitted-level-0);\n",
       "  border: .5pt solid var(--sklearn-color-unfitted-level-3);\n",
       "}\n",
       "\n",
       ".sk-estimator-doc-link.fitted span {\n",
       "  /* fitted */\n",
       "  background: var(--sklearn-color-fitted-level-0);\n",
       "  border: var(--sklearn-color-fitted-level-3);\n",
       "}\n",
       "\n",
       ".sk-estimator-doc-link:hover span {\n",
       "  display: block;\n",
       "}\n",
       "\n",
       "/* \"?\"-specific style due to the `<a>` HTML tag */\n",
       "\n",
       "#sk-container-id-1 a.estimator_doc_link {\n",
       "  float: right;\n",
       "  font-size: 1rem;\n",
       "  line-height: 1em;\n",
       "  font-family: monospace;\n",
       "  background-color: var(--sklearn-color-background);\n",
       "  border-radius: 1rem;\n",
       "  height: 1rem;\n",
       "  width: 1rem;\n",
       "  text-decoration: none;\n",
       "  /* unfitted */\n",
       "  color: var(--sklearn-color-unfitted-level-1);\n",
       "  border: var(--sklearn-color-unfitted-level-1) 1pt solid;\n",
       "}\n",
       "\n",
       "#sk-container-id-1 a.estimator_doc_link.fitted {\n",
       "  /* fitted */\n",
       "  border: var(--sklearn-color-fitted-level-1) 1pt solid;\n",
       "  color: var(--sklearn-color-fitted-level-1);\n",
       "}\n",
       "\n",
       "/* On hover */\n",
       "#sk-container-id-1 a.estimator_doc_link:hover {\n",
       "  /* unfitted */\n",
       "  background-color: var(--sklearn-color-unfitted-level-3);\n",
       "  color: var(--sklearn-color-background);\n",
       "  text-decoration: none;\n",
       "}\n",
       "\n",
       "#sk-container-id-1 a.estimator_doc_link.fitted:hover {\n",
       "  /* fitted */\n",
       "  background-color: var(--sklearn-color-fitted-level-3);\n",
       "}\n",
       "</style><div id=\"sk-container-id-1\" class=\"sk-top-container\"><div class=\"sk-text-repr-fallback\"><pre>LogisticRegression(C=2, class_weight=&#x27;balanced&#x27;, max_iter=1000, solver=&#x27;saga&#x27;)</pre><b>In a Jupyter environment, please rerun this cell to show the HTML representation or trust the notebook. <br />On GitHub, the HTML representation is unable to render, please try loading this page with nbviewer.org.</b></div><div class=\"sk-container\" hidden><div class=\"sk-item\"><div class=\"sk-estimator fitted sk-toggleable\"><input class=\"sk-toggleable__control sk-hidden--visually\" id=\"sk-estimator-id-1\" type=\"checkbox\" checked><label for=\"sk-estimator-id-1\" class=\"sk-toggleable__label fitted sk-toggleable__label-arrow\"><div><div>LogisticRegression</div></div><div><a class=\"sk-estimator-doc-link fitted\" rel=\"noreferrer\" target=\"_blank\" href=\"https://scikit-learn.org/1.6/modules/generated/sklearn.linear_model.LogisticRegression.html\">?<span>Documentation for LogisticRegression</span></a><span class=\"sk-estimator-doc-link fitted\">i<span>Fitted</span></span></div></label><div class=\"sk-toggleable__content fitted\"><pre>LogisticRegression(C=2, class_weight=&#x27;balanced&#x27;, max_iter=1000, solver=&#x27;saga&#x27;)</pre></div> </div></div></div></div>"
      ],
      "text/plain": [
       "LogisticRegression(C=2, class_weight='balanced', max_iter=1000, solver='saga')"
      ]
     },
     "execution_count": 22,
     "metadata": {},
     "output_type": "execute_result"
    }
   ],
   "source": [
    "baseline_model = LogisticRegression(C=2, penalty='l2', solver='saga', class_weight='balanced', max_iter=1000)\n",
    "baseline_model.fit(X_train_tfidf, train_data['label'])"
   ]
  },
  {
   "cell_type": "markdown",
   "id": "a1122c95-2e4b-4652-a045-ea955314d195",
   "metadata": {},
   "source": [
    "### Predict Tweets Sentiments"
   ]
  },
  {
   "cell_type": "code",
   "execution_count": 23,
   "id": "426ef96e-fe14-450c-ab08-75ec18126dbc",
   "metadata": {},
   "outputs": [],
   "source": [
    "y_pred_baseline = baseline_model.predict(X_test_tfidf)\n"
   ]
  },
  {
   "cell_type": "markdown",
   "id": "0e8f6961-1aa0-40f4-b41d-7c083e72b07e",
   "metadata": {},
   "source": [
    "### Evaluate Logic Regresson accuracy"
   ]
  },
  {
   "cell_type": "code",
   "execution_count": 24,
   "id": "9453bfb0-1072-43c9-9e0b-e2e501894268",
   "metadata": {},
   "outputs": [
    {
     "name": "stdout",
     "output_type": "stream",
     "text": [
      "Baseline Model Performance (Logistic Regression + TF-IDF):\n",
      "              precision    recall  f1-score   support\n",
      "\n",
      "     Bearish       0.55      0.62      0.59       358\n",
      "     Bullish       0.67      0.73      0.70       479\n",
      "     Neutral       0.89      0.84      0.87      1549\n",
      "\n",
      "    accuracy                           0.79      2386\n",
      "   macro avg       0.71      0.73      0.72      2386\n",
      "weighted avg       0.80      0.79      0.79      2386\n",
      "\n"
     ]
    }
   ],
   "source": [
    "print(\"Baseline Model Performance (Logistic Regression + TF-IDF):\")\n",
    "print(classification_report(test_data['label'], y_pred_baseline))"
   ]
  },
  {
   "cell_type": "markdown",
   "id": "963457b9-ff3b-4e94-ae18-10149fc4f7c7",
   "metadata": {
    "jp-MarkdownHeadingCollapsed": true
   },
   "source": [
    "## 3.2 Advanced Machine Learning Model (Word Embeddings + Random Forest)"
   ]
  },
  {
   "cell_type": "markdown",
   "id": "03ea1088-3953-43f8-abab-6255ff8f3f85",
   "metadata": {},
   "source": [
    "### Import Random Forest Library"
   ]
  },
  {
   "cell_type": "code",
   "execution_count": 25,
   "id": "d371ab99-0686-495a-821a-5c360e81e49c",
   "metadata": {},
   "outputs": [],
   "source": [
    "from sklearn.ensemble import RandomForestClassifier"
   ]
  },
  {
   "cell_type": "markdown",
   "id": "0c788d63-a01c-4552-be51-3f601654b6a3",
   "metadata": {},
   "source": [
    "### Train Random Forest\n",
    "\n",
    "To optimize the Random Forest model, I performed a hyperparameter search using RandomizedSearchCV.\n",
    "This helped efficiently test different configurations of tree depth, number of estimators, and node splitting criteria.\n",
    "The best parameters found were:\n",
    "- n_estimators = 500\n",
    "- max_depth = 10\n",
    "- min_samples_split = 5\n",
    "- min_samples_leaf = 2\n",
    "- bootstrap = True\n",
    "These values led to better recall for Bearish and Bullish labels and increasing overall accuracy.\n"
   ]
  },
  {
   "cell_type": "code",
   "execution_count": 26,
   "id": "d51a33fd-e98c-41a0-a79a-18495f378bfb",
   "metadata": {},
   "outputs": [
    {
     "data": {
      "text/html": [
       "<style>#sk-container-id-2 {\n",
       "  /* Definition of color scheme common for light and dark mode */\n",
       "  --sklearn-color-text: #000;\n",
       "  --sklearn-color-text-muted: #666;\n",
       "  --sklearn-color-line: gray;\n",
       "  /* Definition of color scheme for unfitted estimators */\n",
       "  --sklearn-color-unfitted-level-0: #fff5e6;\n",
       "  --sklearn-color-unfitted-level-1: #f6e4d2;\n",
       "  --sklearn-color-unfitted-level-2: #ffe0b3;\n",
       "  --sklearn-color-unfitted-level-3: chocolate;\n",
       "  /* Definition of color scheme for fitted estimators */\n",
       "  --sklearn-color-fitted-level-0: #f0f8ff;\n",
       "  --sklearn-color-fitted-level-1: #d4ebff;\n",
       "  --sklearn-color-fitted-level-2: #b3dbfd;\n",
       "  --sklearn-color-fitted-level-3: cornflowerblue;\n",
       "\n",
       "  /* Specific color for light theme */\n",
       "  --sklearn-color-text-on-default-background: var(--sg-text-color, var(--theme-code-foreground, var(--jp-content-font-color1, black)));\n",
       "  --sklearn-color-background: var(--sg-background-color, var(--theme-background, var(--jp-layout-color0, white)));\n",
       "  --sklearn-color-border-box: var(--sg-text-color, var(--theme-code-foreground, var(--jp-content-font-color1, black)));\n",
       "  --sklearn-color-icon: #696969;\n",
       "\n",
       "  @media (prefers-color-scheme: dark) {\n",
       "    /* Redefinition of color scheme for dark theme */\n",
       "    --sklearn-color-text-on-default-background: var(--sg-text-color, var(--theme-code-foreground, var(--jp-content-font-color1, white)));\n",
       "    --sklearn-color-background: var(--sg-background-color, var(--theme-background, var(--jp-layout-color0, #111)));\n",
       "    --sklearn-color-border-box: var(--sg-text-color, var(--theme-code-foreground, var(--jp-content-font-color1, white)));\n",
       "    --sklearn-color-icon: #878787;\n",
       "  }\n",
       "}\n",
       "\n",
       "#sk-container-id-2 {\n",
       "  color: var(--sklearn-color-text);\n",
       "}\n",
       "\n",
       "#sk-container-id-2 pre {\n",
       "  padding: 0;\n",
       "}\n",
       "\n",
       "#sk-container-id-2 input.sk-hidden--visually {\n",
       "  border: 0;\n",
       "  clip: rect(1px 1px 1px 1px);\n",
       "  clip: rect(1px, 1px, 1px, 1px);\n",
       "  height: 1px;\n",
       "  margin: -1px;\n",
       "  overflow: hidden;\n",
       "  padding: 0;\n",
       "  position: absolute;\n",
       "  width: 1px;\n",
       "}\n",
       "\n",
       "#sk-container-id-2 div.sk-dashed-wrapped {\n",
       "  border: 1px dashed var(--sklearn-color-line);\n",
       "  margin: 0 0.4em 0.5em 0.4em;\n",
       "  box-sizing: border-box;\n",
       "  padding-bottom: 0.4em;\n",
       "  background-color: var(--sklearn-color-background);\n",
       "}\n",
       "\n",
       "#sk-container-id-2 div.sk-container {\n",
       "  /* jupyter's `normalize.less` sets `[hidden] { display: none; }`\n",
       "     but bootstrap.min.css set `[hidden] { display: none !important; }`\n",
       "     so we also need the `!important` here to be able to override the\n",
       "     default hidden behavior on the sphinx rendered scikit-learn.org.\n",
       "     See: https://github.com/scikit-learn/scikit-learn/issues/21755 */\n",
       "  display: inline-block !important;\n",
       "  position: relative;\n",
       "}\n",
       "\n",
       "#sk-container-id-2 div.sk-text-repr-fallback {\n",
       "  display: none;\n",
       "}\n",
       "\n",
       "div.sk-parallel-item,\n",
       "div.sk-serial,\n",
       "div.sk-item {\n",
       "  /* draw centered vertical line to link estimators */\n",
       "  background-image: linear-gradient(var(--sklearn-color-text-on-default-background), var(--sklearn-color-text-on-default-background));\n",
       "  background-size: 2px 100%;\n",
       "  background-repeat: no-repeat;\n",
       "  background-position: center center;\n",
       "}\n",
       "\n",
       "/* Parallel-specific style estimator block */\n",
       "\n",
       "#sk-container-id-2 div.sk-parallel-item::after {\n",
       "  content: \"\";\n",
       "  width: 100%;\n",
       "  border-bottom: 2px solid var(--sklearn-color-text-on-default-background);\n",
       "  flex-grow: 1;\n",
       "}\n",
       "\n",
       "#sk-container-id-2 div.sk-parallel {\n",
       "  display: flex;\n",
       "  align-items: stretch;\n",
       "  justify-content: center;\n",
       "  background-color: var(--sklearn-color-background);\n",
       "  position: relative;\n",
       "}\n",
       "\n",
       "#sk-container-id-2 div.sk-parallel-item {\n",
       "  display: flex;\n",
       "  flex-direction: column;\n",
       "}\n",
       "\n",
       "#sk-container-id-2 div.sk-parallel-item:first-child::after {\n",
       "  align-self: flex-end;\n",
       "  width: 50%;\n",
       "}\n",
       "\n",
       "#sk-container-id-2 div.sk-parallel-item:last-child::after {\n",
       "  align-self: flex-start;\n",
       "  width: 50%;\n",
       "}\n",
       "\n",
       "#sk-container-id-2 div.sk-parallel-item:only-child::after {\n",
       "  width: 0;\n",
       "}\n",
       "\n",
       "/* Serial-specific style estimator block */\n",
       "\n",
       "#sk-container-id-2 div.sk-serial {\n",
       "  display: flex;\n",
       "  flex-direction: column;\n",
       "  align-items: center;\n",
       "  background-color: var(--sklearn-color-background);\n",
       "  padding-right: 1em;\n",
       "  padding-left: 1em;\n",
       "}\n",
       "\n",
       "\n",
       "/* Toggleable style: style used for estimator/Pipeline/ColumnTransformer box that is\n",
       "clickable and can be expanded/collapsed.\n",
       "- Pipeline and ColumnTransformer use this feature and define the default style\n",
       "- Estimators will overwrite some part of the style using the `sk-estimator` class\n",
       "*/\n",
       "\n",
       "/* Pipeline and ColumnTransformer style (default) */\n",
       "\n",
       "#sk-container-id-2 div.sk-toggleable {\n",
       "  /* Default theme specific background. It is overwritten whether we have a\n",
       "  specific estimator or a Pipeline/ColumnTransformer */\n",
       "  background-color: var(--sklearn-color-background);\n",
       "}\n",
       "\n",
       "/* Toggleable label */\n",
       "#sk-container-id-2 label.sk-toggleable__label {\n",
       "  cursor: pointer;\n",
       "  display: flex;\n",
       "  width: 100%;\n",
       "  margin-bottom: 0;\n",
       "  padding: 0.5em;\n",
       "  box-sizing: border-box;\n",
       "  text-align: center;\n",
       "  align-items: start;\n",
       "  justify-content: space-between;\n",
       "  gap: 0.5em;\n",
       "}\n",
       "\n",
       "#sk-container-id-2 label.sk-toggleable__label .caption {\n",
       "  font-size: 0.6rem;\n",
       "  font-weight: lighter;\n",
       "  color: var(--sklearn-color-text-muted);\n",
       "}\n",
       "\n",
       "#sk-container-id-2 label.sk-toggleable__label-arrow:before {\n",
       "  /* Arrow on the left of the label */\n",
       "  content: \"▸\";\n",
       "  float: left;\n",
       "  margin-right: 0.25em;\n",
       "  color: var(--sklearn-color-icon);\n",
       "}\n",
       "\n",
       "#sk-container-id-2 label.sk-toggleable__label-arrow:hover:before {\n",
       "  color: var(--sklearn-color-text);\n",
       "}\n",
       "\n",
       "/* Toggleable content - dropdown */\n",
       "\n",
       "#sk-container-id-2 div.sk-toggleable__content {\n",
       "  max-height: 0;\n",
       "  max-width: 0;\n",
       "  overflow: hidden;\n",
       "  text-align: left;\n",
       "  /* unfitted */\n",
       "  background-color: var(--sklearn-color-unfitted-level-0);\n",
       "}\n",
       "\n",
       "#sk-container-id-2 div.sk-toggleable__content.fitted {\n",
       "  /* fitted */\n",
       "  background-color: var(--sklearn-color-fitted-level-0);\n",
       "}\n",
       "\n",
       "#sk-container-id-2 div.sk-toggleable__content pre {\n",
       "  margin: 0.2em;\n",
       "  border-radius: 0.25em;\n",
       "  color: var(--sklearn-color-text);\n",
       "  /* unfitted */\n",
       "  background-color: var(--sklearn-color-unfitted-level-0);\n",
       "}\n",
       "\n",
       "#sk-container-id-2 div.sk-toggleable__content.fitted pre {\n",
       "  /* unfitted */\n",
       "  background-color: var(--sklearn-color-fitted-level-0);\n",
       "}\n",
       "\n",
       "#sk-container-id-2 input.sk-toggleable__control:checked~div.sk-toggleable__content {\n",
       "  /* Expand drop-down */\n",
       "  max-height: 200px;\n",
       "  max-width: 100%;\n",
       "  overflow: auto;\n",
       "}\n",
       "\n",
       "#sk-container-id-2 input.sk-toggleable__control:checked~label.sk-toggleable__label-arrow:before {\n",
       "  content: \"▾\";\n",
       "}\n",
       "\n",
       "/* Pipeline/ColumnTransformer-specific style */\n",
       "\n",
       "#sk-container-id-2 div.sk-label input.sk-toggleable__control:checked~label.sk-toggleable__label {\n",
       "  color: var(--sklearn-color-text);\n",
       "  background-color: var(--sklearn-color-unfitted-level-2);\n",
       "}\n",
       "\n",
       "#sk-container-id-2 div.sk-label.fitted input.sk-toggleable__control:checked~label.sk-toggleable__label {\n",
       "  background-color: var(--sklearn-color-fitted-level-2);\n",
       "}\n",
       "\n",
       "/* Estimator-specific style */\n",
       "\n",
       "/* Colorize estimator box */\n",
       "#sk-container-id-2 div.sk-estimator input.sk-toggleable__control:checked~label.sk-toggleable__label {\n",
       "  /* unfitted */\n",
       "  background-color: var(--sklearn-color-unfitted-level-2);\n",
       "}\n",
       "\n",
       "#sk-container-id-2 div.sk-estimator.fitted input.sk-toggleable__control:checked~label.sk-toggleable__label {\n",
       "  /* fitted */\n",
       "  background-color: var(--sklearn-color-fitted-level-2);\n",
       "}\n",
       "\n",
       "#sk-container-id-2 div.sk-label label.sk-toggleable__label,\n",
       "#sk-container-id-2 div.sk-label label {\n",
       "  /* The background is the default theme color */\n",
       "  color: var(--sklearn-color-text-on-default-background);\n",
       "}\n",
       "\n",
       "/* On hover, darken the color of the background */\n",
       "#sk-container-id-2 div.sk-label:hover label.sk-toggleable__label {\n",
       "  color: var(--sklearn-color-text);\n",
       "  background-color: var(--sklearn-color-unfitted-level-2);\n",
       "}\n",
       "\n",
       "/* Label box, darken color on hover, fitted */\n",
       "#sk-container-id-2 div.sk-label.fitted:hover label.sk-toggleable__label.fitted {\n",
       "  color: var(--sklearn-color-text);\n",
       "  background-color: var(--sklearn-color-fitted-level-2);\n",
       "}\n",
       "\n",
       "/* Estimator label */\n",
       "\n",
       "#sk-container-id-2 div.sk-label label {\n",
       "  font-family: monospace;\n",
       "  font-weight: bold;\n",
       "  display: inline-block;\n",
       "  line-height: 1.2em;\n",
       "}\n",
       "\n",
       "#sk-container-id-2 div.sk-label-container {\n",
       "  text-align: center;\n",
       "}\n",
       "\n",
       "/* Estimator-specific */\n",
       "#sk-container-id-2 div.sk-estimator {\n",
       "  font-family: monospace;\n",
       "  border: 1px dotted var(--sklearn-color-border-box);\n",
       "  border-radius: 0.25em;\n",
       "  box-sizing: border-box;\n",
       "  margin-bottom: 0.5em;\n",
       "  /* unfitted */\n",
       "  background-color: var(--sklearn-color-unfitted-level-0);\n",
       "}\n",
       "\n",
       "#sk-container-id-2 div.sk-estimator.fitted {\n",
       "  /* fitted */\n",
       "  background-color: var(--sklearn-color-fitted-level-0);\n",
       "}\n",
       "\n",
       "/* on hover */\n",
       "#sk-container-id-2 div.sk-estimator:hover {\n",
       "  /* unfitted */\n",
       "  background-color: var(--sklearn-color-unfitted-level-2);\n",
       "}\n",
       "\n",
       "#sk-container-id-2 div.sk-estimator.fitted:hover {\n",
       "  /* fitted */\n",
       "  background-color: var(--sklearn-color-fitted-level-2);\n",
       "}\n",
       "\n",
       "/* Specification for estimator info (e.g. \"i\" and \"?\") */\n",
       "\n",
       "/* Common style for \"i\" and \"?\" */\n",
       "\n",
       ".sk-estimator-doc-link,\n",
       "a:link.sk-estimator-doc-link,\n",
       "a:visited.sk-estimator-doc-link {\n",
       "  float: right;\n",
       "  font-size: smaller;\n",
       "  line-height: 1em;\n",
       "  font-family: monospace;\n",
       "  background-color: var(--sklearn-color-background);\n",
       "  border-radius: 1em;\n",
       "  height: 1em;\n",
       "  width: 1em;\n",
       "  text-decoration: none !important;\n",
       "  margin-left: 0.5em;\n",
       "  text-align: center;\n",
       "  /* unfitted */\n",
       "  border: var(--sklearn-color-unfitted-level-1) 1pt solid;\n",
       "  color: var(--sklearn-color-unfitted-level-1);\n",
       "}\n",
       "\n",
       ".sk-estimator-doc-link.fitted,\n",
       "a:link.sk-estimator-doc-link.fitted,\n",
       "a:visited.sk-estimator-doc-link.fitted {\n",
       "  /* fitted */\n",
       "  border: var(--sklearn-color-fitted-level-1) 1pt solid;\n",
       "  color: var(--sklearn-color-fitted-level-1);\n",
       "}\n",
       "\n",
       "/* On hover */\n",
       "div.sk-estimator:hover .sk-estimator-doc-link:hover,\n",
       ".sk-estimator-doc-link:hover,\n",
       "div.sk-label-container:hover .sk-estimator-doc-link:hover,\n",
       ".sk-estimator-doc-link:hover {\n",
       "  /* unfitted */\n",
       "  background-color: var(--sklearn-color-unfitted-level-3);\n",
       "  color: var(--sklearn-color-background);\n",
       "  text-decoration: none;\n",
       "}\n",
       "\n",
       "div.sk-estimator.fitted:hover .sk-estimator-doc-link.fitted:hover,\n",
       ".sk-estimator-doc-link.fitted:hover,\n",
       "div.sk-label-container:hover .sk-estimator-doc-link.fitted:hover,\n",
       ".sk-estimator-doc-link.fitted:hover {\n",
       "  /* fitted */\n",
       "  background-color: var(--sklearn-color-fitted-level-3);\n",
       "  color: var(--sklearn-color-background);\n",
       "  text-decoration: none;\n",
       "}\n",
       "\n",
       "/* Span, style for the box shown on hovering the info icon */\n",
       ".sk-estimator-doc-link span {\n",
       "  display: none;\n",
       "  z-index: 9999;\n",
       "  position: relative;\n",
       "  font-weight: normal;\n",
       "  right: .2ex;\n",
       "  padding: .5ex;\n",
       "  margin: .5ex;\n",
       "  width: min-content;\n",
       "  min-width: 20ex;\n",
       "  max-width: 50ex;\n",
       "  color: var(--sklearn-color-text);\n",
       "  box-shadow: 2pt 2pt 4pt #999;\n",
       "  /* unfitted */\n",
       "  background: var(--sklearn-color-unfitted-level-0);\n",
       "  border: .5pt solid var(--sklearn-color-unfitted-level-3);\n",
       "}\n",
       "\n",
       ".sk-estimator-doc-link.fitted span {\n",
       "  /* fitted */\n",
       "  background: var(--sklearn-color-fitted-level-0);\n",
       "  border: var(--sklearn-color-fitted-level-3);\n",
       "}\n",
       "\n",
       ".sk-estimator-doc-link:hover span {\n",
       "  display: block;\n",
       "}\n",
       "\n",
       "/* \"?\"-specific style due to the `<a>` HTML tag */\n",
       "\n",
       "#sk-container-id-2 a.estimator_doc_link {\n",
       "  float: right;\n",
       "  font-size: 1rem;\n",
       "  line-height: 1em;\n",
       "  font-family: monospace;\n",
       "  background-color: var(--sklearn-color-background);\n",
       "  border-radius: 1rem;\n",
       "  height: 1rem;\n",
       "  width: 1rem;\n",
       "  text-decoration: none;\n",
       "  /* unfitted */\n",
       "  color: var(--sklearn-color-unfitted-level-1);\n",
       "  border: var(--sklearn-color-unfitted-level-1) 1pt solid;\n",
       "}\n",
       "\n",
       "#sk-container-id-2 a.estimator_doc_link.fitted {\n",
       "  /* fitted */\n",
       "  border: var(--sklearn-color-fitted-level-1) 1pt solid;\n",
       "  color: var(--sklearn-color-fitted-level-1);\n",
       "}\n",
       "\n",
       "/* On hover */\n",
       "#sk-container-id-2 a.estimator_doc_link:hover {\n",
       "  /* unfitted */\n",
       "  background-color: var(--sklearn-color-unfitted-level-3);\n",
       "  color: var(--sklearn-color-background);\n",
       "  text-decoration: none;\n",
       "}\n",
       "\n",
       "#sk-container-id-2 a.estimator_doc_link.fitted:hover {\n",
       "  /* fitted */\n",
       "  background-color: var(--sklearn-color-fitted-level-3);\n",
       "}\n",
       "</style><div id=\"sk-container-id-2\" class=\"sk-top-container\"><div class=\"sk-text-repr-fallback\"><pre>RandomForestClassifier(class_weight=&#x27;balanced&#x27;, max_depth=10,\n",
       "                       min_samples_leaf=2, min_samples_split=5,\n",
       "                       n_estimators=500, n_jobs=-1, random_state=66)</pre><b>In a Jupyter environment, please rerun this cell to show the HTML representation or trust the notebook. <br />On GitHub, the HTML representation is unable to render, please try loading this page with nbviewer.org.</b></div><div class=\"sk-container\" hidden><div class=\"sk-item\"><div class=\"sk-estimator fitted sk-toggleable\"><input class=\"sk-toggleable__control sk-hidden--visually\" id=\"sk-estimator-id-2\" type=\"checkbox\" checked><label for=\"sk-estimator-id-2\" class=\"sk-toggleable__label fitted sk-toggleable__label-arrow\"><div><div>RandomForestClassifier</div></div><div><a class=\"sk-estimator-doc-link fitted\" rel=\"noreferrer\" target=\"_blank\" href=\"https://scikit-learn.org/1.6/modules/generated/sklearn.ensemble.RandomForestClassifier.html\">?<span>Documentation for RandomForestClassifier</span></a><span class=\"sk-estimator-doc-link fitted\">i<span>Fitted</span></span></div></label><div class=\"sk-toggleable__content fitted\"><pre>RandomForestClassifier(class_weight=&#x27;balanced&#x27;, max_depth=10,\n",
       "                       min_samples_leaf=2, min_samples_split=5,\n",
       "                       n_estimators=500, n_jobs=-1, random_state=66)</pre></div> </div></div></div></div>"
      ],
      "text/plain": [
       "RandomForestClassifier(class_weight='balanced', max_depth=10,\n",
       "                       min_samples_leaf=2, min_samples_split=5,\n",
       "                       n_estimators=500, n_jobs=-1, random_state=66)"
      ]
     },
     "execution_count": 26,
     "metadata": {},
     "output_type": "execute_result"
    }
   ],
   "source": [
    "rf_model = RandomForestClassifier(n_estimators=500, random_state=66, min_samples_split=5, min_samples_leaf=2, max_depth=10, bootstrap= True, class_weight=\"balanced\",n_jobs=-1)\n",
    "rf_model.fit(X_train_embeddings, train_data['label'])"
   ]
  },
  {
   "cell_type": "markdown",
   "id": "e144ac0a-eacd-418c-b81b-4a5fba54438f",
   "metadata": {},
   "source": [
    "### Predict Tweets Sentiments"
   ]
  },
  {
   "cell_type": "code",
   "execution_count": 27,
   "id": "a828583e-1509-48cb-aafb-1ae7ea38c553",
   "metadata": {},
   "outputs": [],
   "source": [
    "y_pred_rf = rf_model.predict(X_test_embeddings)"
   ]
  },
  {
   "cell_type": "markdown",
   "id": "faa52883-9cfd-471e-ade4-dc8ad3874296",
   "metadata": {},
   "source": [
    "### Evaluate Random Forest accuracy"
   ]
  },
  {
   "cell_type": "code",
   "execution_count": 28,
   "id": "6cbeecdb-1f00-406c-b3db-d56941c8dda4",
   "metadata": {},
   "outputs": [
    {
     "name": "stdout",
     "output_type": "stream",
     "text": [
      "Random Forest Model Performance (Word Embeddings):\n",
      "              precision    recall  f1-score   support\n",
      "\n",
      "     Bearish       0.74      0.44      0.55       358\n",
      "     Bullish       0.74      0.49      0.59       479\n",
      "     Neutral       0.79      0.94      0.86      1549\n",
      "\n",
      "    accuracy                           0.78      2386\n",
      "   macro avg       0.75      0.62      0.67      2386\n",
      "weighted avg       0.77      0.78      0.76      2386\n",
      "\n"
     ]
    }
   ],
   "source": [
    "print(\"Random Forest Model Performance (Word Embeddings):\")\n",
    "print(classification_report(test_data['label'], y_pred_rf))"
   ]
  },
  {
   "cell_type": "markdown",
   "id": "5a31a791-4373-4196-b2f6-4099bf235112",
   "metadata": {
    "jp-MarkdownHeadingCollapsed": true
   },
   "source": [
    "## 3.3 Deep Learning Model (FinBERT Fine-Tuning)"
   ]
  },
  {
   "cell_type": "markdown",
   "id": "d8bc9a30-fba6-4fc1-9ba3-23c35ea655a6",
   "metadata": {},
   "source": [
    "### Import necessary libraries"
   ]
  },
  {
   "cell_type": "code",
   "execution_count": 29,
   "id": "cd91d558-2f9e-4739-8110-64b046dd25ee",
   "metadata": {},
   "outputs": [],
   "source": [
    "from transformers import BertTokenizer, BertForSequenceClassification\n",
    "import torch\n",
    "import numpy as np\n",
    "from sklearn.metrics import classification_report"
   ]
  },
  {
   "cell_type": "code",
   "execution_count": 30,
   "id": "8d10d3bf-b9c6-4d29-8cf1-f2247c51b93d",
   "metadata": {},
   "outputs": [],
   "source": [
    "#test_data = pd.read_csv(\"test_data.csv\")\n",
    "#test_data['text'] = test_data['text'].astype(str).fillna(\"\")"
   ]
  },
  {
   "cell_type": "markdown",
   "id": "9b8eef12-1758-4fc2-a047-a8790821ab61",
   "metadata": {},
   "source": [
    "### Loading either FineTuned or Pretrained model\n",
    "If you want to evaluate the accuracy of pretrained FinBert WITH fineTuning :"
   ]
  },
  {
   "cell_type": "code",
   "execution_count": 31,
   "id": "c6862925-719b-4984-b28e-3fa966ff2ddd",
   "metadata": {},
   "outputs": [],
   "source": [
    "model_path = os.path.join(\".\", \"finbert_trained\")\n",
    "finbert_tokenizer = BertTokenizer.from_pretrained(model_path)\n",
    "finbert_model = BertForSequenceClassification.from_pretrained(model_path)"
   ]
  },
  {
   "cell_type": "markdown",
   "id": "6cac81b6-1b3d-43b7-9ff3-2c416ea8f037",
   "metadata": {},
   "source": [
    "If you want to evaluate the accuracy of pretrained FinBert WITHOUT fineTuning :"
   ]
  },
  {
   "cell_type": "code",
   "execution_count": 32,
   "id": "01b304e5-4c85-423a-a5e7-1a1e4ce266f0",
   "metadata": {},
   "outputs": [],
   "source": [
    "#finbert_tokenizer = BertTokenizer.from_pretrained(\"yiyanghkust/finbert-tone\")\n",
    "#finbert_model = BertForSequenceClassification.from_pretrained(\"yiyanghkust/finbert-tone\")"
   ]
  },
  {
   "cell_type": "markdown",
   "id": "edb1d85c-0a93-4cb4-bc3f-2d8f3a93b088",
   "metadata": {},
   "source": [
    "### Setting device for GPU acceleration"
   ]
  },
  {
   "cell_type": "code",
   "execution_count": 33,
   "id": "efbec53d-e861-4d3c-9360-a605019fbb10",
   "metadata": {},
   "outputs": [
    {
     "data": {
      "text/plain": [
       "BertForSequenceClassification(\n",
       "  (bert): BertModel(\n",
       "    (embeddings): BertEmbeddings(\n",
       "      (word_embeddings): Embedding(30873, 768, padding_idx=0)\n",
       "      (position_embeddings): Embedding(512, 768)\n",
       "      (token_type_embeddings): Embedding(2, 768)\n",
       "      (LayerNorm): LayerNorm((768,), eps=1e-12, elementwise_affine=True)\n",
       "      (dropout): Dropout(p=0.1, inplace=False)\n",
       "    )\n",
       "    (encoder): BertEncoder(\n",
       "      (layer): ModuleList(\n",
       "        (0-11): 12 x BertLayer(\n",
       "          (attention): BertAttention(\n",
       "            (self): BertSdpaSelfAttention(\n",
       "              (query): Linear(in_features=768, out_features=768, bias=True)\n",
       "              (key): Linear(in_features=768, out_features=768, bias=True)\n",
       "              (value): Linear(in_features=768, out_features=768, bias=True)\n",
       "              (dropout): Dropout(p=0.1, inplace=False)\n",
       "            )\n",
       "            (output): BertSelfOutput(\n",
       "              (dense): Linear(in_features=768, out_features=768, bias=True)\n",
       "              (LayerNorm): LayerNorm((768,), eps=1e-12, elementwise_affine=True)\n",
       "              (dropout): Dropout(p=0.1, inplace=False)\n",
       "            )\n",
       "          )\n",
       "          (intermediate): BertIntermediate(\n",
       "            (dense): Linear(in_features=768, out_features=3072, bias=True)\n",
       "            (intermediate_act_fn): GELUActivation()\n",
       "          )\n",
       "          (output): BertOutput(\n",
       "            (dense): Linear(in_features=3072, out_features=768, bias=True)\n",
       "            (LayerNorm): LayerNorm((768,), eps=1e-12, elementwise_affine=True)\n",
       "            (dropout): Dropout(p=0.1, inplace=False)\n",
       "          )\n",
       "        )\n",
       "      )\n",
       "    )\n",
       "    (pooler): BertPooler(\n",
       "      (dense): Linear(in_features=768, out_features=768, bias=True)\n",
       "      (activation): Tanh()\n",
       "    )\n",
       "  )\n",
       "  (dropout): Dropout(p=0.1, inplace=False)\n",
       "  (classifier): Linear(in_features=768, out_features=3, bias=True)\n",
       ")"
      ]
     },
     "execution_count": 33,
     "metadata": {},
     "output_type": "execute_result"
    }
   ],
   "source": [
    "device = torch.device(\"cuda\" if torch.cuda.is_available() else \"mps\" if torch.backends.mps.is_available() else \"cpu\")\n",
    "finbert_model.to(device)"
   ]
  },
  {
   "cell_type": "markdown",
   "id": "0ea0ecd3-7e28-44c3-9943-fe4ba42283db",
   "metadata": {},
   "source": [
    "### Tokenizing Data"
   ]
  },
  {
   "cell_type": "code",
   "execution_count": 34,
   "id": "0edc7929-f2ce-48cd-9c87-40b59172b2f1",
   "metadata": {},
   "outputs": [
    {
     "name": "stderr",
     "output_type": "stream",
     "text": [
      "Asking to truncate to max_length but no maximum length is provided and the model has no predefined maximum length. Default to no truncation.\n"
     ]
    }
   ],
   "source": [
    "test_encodings = finbert_tokenizer(\n",
    "    test_data['text'].tolist(),\n",
    "    padding=True,\n",
    "    truncation=True,\n",
    "    return_tensors=\"pt\"\n",
    ")\n",
    "test_encodings = {key: val.to(device) for key, val in test_encodings.items()}"
   ]
  },
  {
   "cell_type": "markdown",
   "id": "5b581b7e-d659-4bb5-8a1d-d8d3c96bbd35",
   "metadata": {},
   "source": [
    "### Inference"
   ]
  },
  {
   "cell_type": "code",
   "execution_count": 35,
   "id": "82476127-82a6-4108-8c8c-aea3643bc6e5",
   "metadata": {},
   "outputs": [],
   "source": [
    "finbert_model.eval()\n",
    "with torch.no_grad():\n",
    "    outputs = finbert_model(**test_encodings)\n",
    "    predictions = torch.argmax(outputs.logits, dim=1).cpu().numpy()"
   ]
  },
  {
   "cell_type": "markdown",
   "id": "40c8aba6-9ffd-4803-8e25-c5a1bab33088",
   "metadata": {},
   "source": [
    "### Convert Prediction to Labels"
   ]
  },
  {
   "cell_type": "code",
   "execution_count": 36,
   "id": "5d16d4d2-495c-4df6-b1cd-fa4fee400042",
   "metadata": {},
   "outputs": [],
   "source": [
    "label_map_inv = {0: \"Neutral\", 1: \"Bullish\", 2: \"Bearish\"}\n",
    "predicted_labels = [label_map_inv[pred] for pred in predictions]"
   ]
  },
  {
   "cell_type": "markdown",
   "id": "361e74a3-ecba-4ff1-9791-9bcd13a47e3c",
   "metadata": {},
   "source": [
    "### Printing FinBert accuracy "
   ]
  },
  {
   "cell_type": "code",
   "execution_count": 37,
   "id": "9bd99939-c4ce-41fa-8c73-303cb70a3df2",
   "metadata": {},
   "outputs": [
    {
     "name": "stdout",
     "output_type": "stream",
     "text": [
      "FinBERT Model Performance:\n",
      "              precision    recall  f1-score   support\n",
      "\n",
      "     Bearish       0.70      0.71      0.71       358\n",
      "     Bullish       0.78      0.77      0.77       479\n",
      "     Neutral       0.90      0.90      0.90      1549\n",
      "\n",
      "    accuracy                           0.84      2386\n",
      "   macro avg       0.79      0.79      0.79      2386\n",
      "weighted avg       0.84      0.84      0.84      2386\n",
      "\n"
     ]
    }
   ],
   "source": [
    "print(\"FinBERT Model Performance:\")\n",
    "print(classification_report(test_data['label'], predicted_labels))"
   ]
  },
  {
   "cell_type": "markdown",
   "id": "54da4d56-d6ab-41b0-af54-9c6f9832607e",
   "metadata": {},
   "source": [
    "## 3.4 Models Evaluation"
   ]
  },
  {
   "cell_type": "markdown",
   "id": "17411ed8-5f22-4721-be63-354297a1e439",
   "metadata": {},
   "source": [
    "## Presenting Score metrics"
   ]
  },
  {
   "cell_type": "markdown",
   "id": "cc219a4c-5ebf-410f-aff9-f75322846124",
   "metadata": {},
   "source": [
    "When evaluating a sentiment analysis model, we use different metrics to see how well it's performing.\n",
    "\n",
    "\n",
    "#### Accuracy\n",
    "tells us the overall correctness of the model by showing the percentage of correctly classified tweets. It works well when the dataset is balanced but can be misleading if one sentiment appears much more often than others.\n",
    "\n",
    "#### Precision \n",
    "measures how many of the tweets predicted as a certain sentiment (e.g., \"Bullish\") are actually correct. It’s useful when we want to avoid false positives, like mistakenly labeling a neutral tweet as positive.\n",
    "\n",
    "#### Recall\n",
    "looks at how many actual tweets of a certain sentiment were correctly identified. This is important when missing a key sentiment (like a bearish signal in finance) could lead to problems.\n",
    "\n",
    "#### F1-score \n",
    "balances precision and recall, making it especially useful when the dataset isn’t evenly distributed across all sentiments. It helps ensure both false positives and false negatives are considered.\n",
    "\n",
    "#### Confusion Matrix \n",
    "gives a detailed view of where the model is making mistakes by showing how many tweets were correctly and incorrectly classified into each category.\n",
    "\n",
    "#### Note\n",
    "Since sentiment labels (positive, negative, neutral) are clearly separate, precision and recall often end up being similar. That’s why F1-score is usually the best metric to focus on, especially if the dataset is unbalanced.\n",
    "\n"
   ]
  },
  {
   "cell_type": "markdown",
   "id": "e65f7e9c-c4c6-4148-8538-19e0425499eb",
   "metadata": {},
   "source": [
    "### Printing the scores of each models"
   ]
  },
  {
   "cell_type": "code",
   "execution_count": 38,
   "id": "6b73fc8f-2df8-4bf7-9e00-053eba6bf9f7",
   "metadata": {},
   "outputs": [
    {
     "name": "stdout",
     "output_type": "stream",
     "text": [
      "### Model Performance Comparison ###\n",
      "\n",
      "Baseline Model Performance (Logistic Regression + TF-IDF):\n",
      "              precision    recall  f1-score   support\n",
      "\n",
      "     Bearish       0.55      0.62      0.59       358\n",
      "     Bullish       0.67      0.73      0.70       479\n",
      "     Neutral       0.89      0.84      0.87      1549\n",
      "\n",
      "    accuracy                           0.79      2386\n",
      "   macro avg       0.71      0.73      0.72      2386\n",
      "weighted avg       0.80      0.79      0.79      2386\n",
      "\n",
      "\n",
      "Random Forest Model Performance (Word Embeddings):\n",
      "              precision    recall  f1-score   support\n",
      "\n",
      "     Bearish       0.74      0.44      0.55       358\n",
      "     Bullish       0.74      0.49      0.59       479\n",
      "     Neutral       0.79      0.94      0.86      1549\n",
      "\n",
      "    accuracy                           0.78      2386\n",
      "   macro avg       0.75      0.62      0.67      2386\n",
      "weighted avg       0.77      0.78      0.76      2386\n",
      "\n",
      "\n",
      "FinBERT Model Performance:\n",
      "              precision    recall  f1-score   support\n",
      "\n",
      "     Bearish       0.70      0.71      0.71       358\n",
      "     Bullish       0.78      0.77      0.77       479\n",
      "     Neutral       0.90      0.90      0.90      1549\n",
      "\n",
      "    accuracy                           0.84      2386\n",
      "   macro avg       0.79      0.79      0.79      2386\n",
      "weighted avg       0.84      0.84      0.84      2386\n",
      "\n"
     ]
    }
   ],
   "source": [
    "print(\"### Model Performance Comparison ###\")\n",
    "print(\"\\nBaseline Model Performance (Logistic Regression + TF-IDF):\")\n",
    "print(classification_report(test_data['label'], y_pred_baseline))\n",
    "\n",
    "print(\"\\nRandom Forest Model Performance (Word Embeddings):\")\n",
    "print(classification_report(test_data['label'], y_pred_rf))\n",
    "\n",
    "print(\"\\nFinBERT Model Performance:\")\n",
    "print(classification_report(test_data['label'], predicted_labels))"
   ]
  },
  {
   "cell_type": "markdown",
   "id": "b57e8462-111c-46f5-9958-43a2234c636b",
   "metadata": {},
   "source": [
    "### Drawing confusion matrices for better understanding of model performances"
   ]
  },
  {
   "cell_type": "code",
   "execution_count": 39,
   "id": "0ee53e98-a160-440a-9168-0b2c5327e35e",
   "metadata": {},
   "outputs": [
    {
     "data": {
      "image/png": "[encoded data removed]",
      "text/plain": [
       "<Figure size 600x500 with 2 Axes>"
      ]
     },
     "metadata": {},
     "output_type": "display_data"
    },
    {
     "data": {
      "image/png": "[encoded data removed]",
      "text/plain": [
       "<Figure size 600x500 with 2 Axes>"
      ]
     },
     "metadata": {},
     "output_type": "display_data"
    },
    {
     "data": {
      "image/png": "[encoded data removed]",
      "text/plain": [
       "<Figure size 600x500 with 2 Axes>"
      ]
     },
     "metadata": {},
     "output_type": "display_data"
    }
   ],
   "source": [
    "from sklearn.metrics import confusion_matrix\n",
    "\n",
    "def plot_confusion_matrix(y_true, y_pred, model_name):\n",
    "    cm = confusion_matrix(y_true, y_pred, labels=[\"Bearish\", \"Bullish\", \"Neutral\"])\n",
    "    plt.figure(figsize=(6, 5))\n",
    "    plt.imshow(cm, interpolation='nearest', cmap=plt.cm.Blues)\n",
    "    plt.title(f\"Confusion Matrix for {model_name}\")\n",
    "    plt.colorbar()\n",
    "    tick_marks = range(len([\"Bearish\", \"Bullish\", \"Neutral\"]))\n",
    "    plt.xticks(tick_marks, [\"Bearish\", \"Bullish\", \"Neutral\"], rotation=45)\n",
    "    plt.yticks(tick_marks, [\"Bearish\", \"Bullish\", \"Neutral\"])\n",
    "    \n",
    "    for i in range(cm.shape[0]):\n",
    "        for j in range(cm.shape[1]):\n",
    "            plt.text(j, i, str(cm[i, j]), horizontalalignment=\"center\", color=\"white\" if cm[i, j] > cm.max() / 2 else \"black\")\n",
    "    \n",
    "    plt.xlabel(\"Predicted Label\")\n",
    "    plt.ylabel(\"True Label\")\n",
    "    plt.show()\n",
    "\n",
    "plot_confusion_matrix(test_data['label'], y_pred_baseline, \"Logistic Regression + TF-IDF\")\n",
    "plot_confusion_matrix(test_data['label'], y_pred_rf, \"Random Forest + Word Embeddings\")\n",
    "plot_confusion_matrix(test_data['label'], predicted_labels, \"FinBERT Fine-Tuned\")\n",
    "\n"
   ]
  },
  {
   "cell_type": "markdown",
   "id": "0b1bfd53-b831-4d05-bbb4-22b1a8b7c75b",
   "metadata": {},
   "source": [
    "# Part 4: Analysis and Insights "
   ]
  },
  {
   "cell_type": "markdown",
   "id": "ba552da7-8631-49ba-b258-f972bf0adc7d",
   "metadata": {},
   "source": [
    "## Discussing the results\n",
    "\n",
    "### Logistic Regression (TF-IDF)\n",
    "\n",
    "Achieves 79% accuracy, performing well overall.\n",
    "Strong on Neutral tweets but struggles to correctly classify Bearish and Bullish sentiments.\n",
    "The confusion matrix shows some misclassification of Bearish and Bullish tweets as Neutral, but not as severe as Random Forest.\n",
    "\n",
    "### Random Forest (Word Embeddings)\n",
    "\n",
    "Over-predicts Neutral, leading to high recall for Neutral tweets but poor recall for others.\n",
    "Accuracy is 78%, but the model struggles with Bearish and Bullish tweets.\n",
    "Word embeddings improve text representation, but Random Forest lacks the contextual understanding needed for this task.\n",
    "\n",
    "### FinBERT (Fine-Tuned)\n",
    "\n",
    "Best model with 84% accuracy and a more balanced classification across all sentiment labels.\n",
    "High recall for all classes, making fewer misclassifications than the other models.\n",
    "Shows that fine-tuning a transformer model helps capture financial sentiment better.\n",
    "\n",
    "## Conclusion\n",
    "\n",
    "TF-IDF + Logistic Regression provides a decent and lightweight solution, offering solid accuracy with minimal computational cost. It performs well, especially on Neutral tweets, but struggles with the more nuanced Bearish and Bullish sentiments.\n",
    "\n",
    "FinBERT (Fine-Tuned) is the best-performing model, effectively capturing all sentiment classes. However, it is computationally expensive to train and use, making it less practical for real-time applications without strong hardware.\n",
    "\n",
    "Random Forest with Word Embeddings could serve as a middle-ground approach, benefiting from contextual understanding while being more efficient than FinBERT. However, in this case, it over-predicts Neutral sentiment, leading to lower overall accuracy. Further tuning would be needed to improve its classification balance."
   ]
  },
  {
   "cell_type": "markdown",
   "id": "33ad32b3-b099-40ec-80dc-73766dae8222",
   "metadata": {},
   "source": [
    "# Part 5: Discussion of any challenges faced during the test"
   ]
  },
  {
   "cell_type": "markdown",
   "id": "6300fbda-fb20-4e8c-bec3-ee51080cbaba",
   "metadata": {},
   "source": [
    "## This project came with several challenges, mainly in model selection, training time, and optimization.\n",
    "\n",
    "### Choosing the Right Models\n",
    "I opted to evaluate these 3 models to understand the trade-offs between computational cost and performance. Each model had distinct advantages: TF-IDF was lightweight, FinBERT provided state-of-the-art results, and Random Forest served as a middle-ground approach.\n",
    "\n",
    "### Training Time and Computational Cost\n",
    "Random Forest required extensive tuning, making training slow.\n",
    "FinBERT Fine-Tuning was the most time-consuming, requiring multiple adjustments to hyperparameters like learning rate and batch size to avoid overfitting. Training on MPS (Mac GPU) helped but was still lengthy.\n",
    "\n",
    "### Hyperparameter Tuning\n",
    "Finding the best Logistic Regression and Random Forest settings involved trial and error. RandomizedSearchCV was useful but computationally expensive, so I manually tuned some parameters to save time.\n",
    "\n",
    "### Handling Class Imbalance\n",
    "The dataset had many more Neutral tweets than Bullish or Bearish ones, making it difficult for models to correctly classify the less frequent categories. This required careful tuning and evaluation."
   ]
  }
 ],
 "metadata": {
  "kernelspec": {
   "display_name": "Python 3 (ipykernel)",
   "language": "python",
   "name": "python3"
  },
  "language_info": {
   "codemirror_mode": {
    "name": "ipython",
    "version": 3
   },
   "file_extension": ".py",
   "mimetype": "text/x-python",
   "name": "python",
   "nbconvert_exporter": "python",
   "pygments_lexer": "ipython3",
   "version": "3.13.2"
  }
 },
 "nbformat": 4,
 "nbformat_minor": 5
}
